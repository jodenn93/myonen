{
 "cells": [
  {
   "cell_type": "markdown",
   "id": "71bf0727",
   "metadata": {},
   "source": [
    "# Myonen Analysis"
   ]
  },
  {
   "cell_type": "code",
   "execution_count": 1,
   "id": "77cb1f50",
   "metadata": {},
   "outputs": [],
   "source": [
    "import matplotlib.pyplot as plt\n",
    "import numpy as np\n",
    "import pandas as pd\n",
    "import os\n",
    "import scipy\n",
    "from sklearn import linear_model as lm\n",
    "\n",
    "from scipy.optimize import curve_fit\n",
    "import matplotlib \n",
    "from matplotlib import pyplot as plt\n",
    "from pylab import *\n",
    "from scipy import odr as odr"
   ]
  },
  {
   "cell_type": "code",
   "execution_count": 2,
   "id": "4b4bfd11",
   "metadata": {},
   "outputs": [],
   "source": [
    "def fitFuncexp(params, x):\n",
    "    p0, p1, p2 = params\n",
    "    return (p0 * np.exp(-x/p1) + p2)"
   ]
  },
  {
   "cell_type": "code",
   "execution_count": 3,
   "id": "46f942de",
   "metadata": {},
   "outputs": [],
   "source": [
    "def fitFunclin(params, x):\n",
    "    p0, p1= params\n",
    "    return (p0*x + p1)"
   ]
  },
  {
   "cell_type": "code",
   "execution_count": 4,
   "id": "15833b46",
   "metadata": {},
   "outputs": [],
   "source": [
    "def odrFit(xValues, xErrors, yValues, yErrors, fitFunction, startParams):\n",
    "    fitModel = odr.Model(fitFunction)\n",
    "    data = odr.RealData(xValues, yValues, sx=xErrors, sy=yErrors)\n",
    "    fitter = odr.ODR(data, fitModel, beta0=startParams)\n",
    "    out = fitter.run()\n",
    "    popt = out.beta\n",
    "    perr = out.sd_beta\n",
    "\n",
    "    ndof = xValues.size - startParams.size\n",
    "    for index in range(0, popt.size):\n",
    "        print('p' + str(index) + ' = ' + str(round(popt[index], 3)) \n",
    "              + ' +- ' + str(round(perr[index], 3)))\n",
    "    print('Chi^2 = ' + str(round(out.sum_square, 3)))\n",
    "    print('red. Chi^2 = ' + str(round(out.res_var, 3)))\n",
    "    print()\n",
    "    return popt,perr,out"
   ]
  },
  {
   "cell_type": "code",
   "execution_count": 5,
   "id": "dd53389f",
   "metadata": {},
   "outputs": [
    {
     "data": {
      "text/html": [
       "<div>\n",
       "<style scoped>\n",
       "    .dataframe tbody tr th:only-of-type {\n",
       "        vertical-align: middle;\n",
       "    }\n",
       "\n",
       "    .dataframe tbody tr th {\n",
       "        vertical-align: top;\n",
       "    }\n",
       "\n",
       "    .dataframe thead th {\n",
       "        text-align: right;\n",
       "    }\n",
       "</style>\n",
       "<table border=\"1\" class=\"dataframe\">\n",
       "  <thead>\n",
       "    <tr style=\"text-align: right;\">\n",
       "      <th></th>\n",
       "      <th>BIN</th>\n",
       "      <th>TIME</th>\n",
       "      <th>ERROR</th>\n",
       "      <th>bin_error</th>\n",
       "    </tr>\n",
       "  </thead>\n",
       "  <tbody>\n",
       "    <tr>\n",
       "      <th>0</th>\n",
       "      <td>111</td>\n",
       "      <td>1.1726</td>\n",
       "      <td>0.005</td>\n",
       "      <td>0.3</td>\n",
       "    </tr>\n",
       "    <tr>\n",
       "      <th>1</th>\n",
       "      <td>200</td>\n",
       "      <td>3.0750</td>\n",
       "      <td>0.005</td>\n",
       "      <td>0.3</td>\n",
       "    </tr>\n",
       "    <tr>\n",
       "      <th>2</th>\n",
       "      <td>323</td>\n",
       "      <td>4.9580</td>\n",
       "      <td>0.010</td>\n",
       "      <td>0.3</td>\n",
       "    </tr>\n",
       "    <tr>\n",
       "      <th>3</th>\n",
       "      <td>463</td>\n",
       "      <td>7.0840</td>\n",
       "      <td>0.010</td>\n",
       "      <td>0.3</td>\n",
       "    </tr>\n",
       "    <tr>\n",
       "      <th>4</th>\n",
       "      <td>579</td>\n",
       "      <td>8.8420</td>\n",
       "      <td>0.010</td>\n",
       "      <td>0.3</td>\n",
       "    </tr>\n",
       "    <tr>\n",
       "      <th>5</th>\n",
       "      <td>635</td>\n",
       "      <td>9.6970</td>\n",
       "      <td>0.020</td>\n",
       "      <td>0.3</td>\n",
       "    </tr>\n",
       "    <tr>\n",
       "      <th>6</th>\n",
       "      <td>702</td>\n",
       "      <td>10.7250</td>\n",
       "      <td>0.020</td>\n",
       "      <td>0.3</td>\n",
       "    </tr>\n",
       "  </tbody>\n",
       "</table>\n",
       "</div>"
      ],
      "text/plain": [
       "   BIN     TIME  ERROR  bin_error\n",
       "0  111   1.1726  0.005        0.3\n",
       "1  200   3.0750  0.005        0.3\n",
       "2  323   4.9580  0.010        0.3\n",
       "3  463   7.0840  0.010        0.3\n",
       "4  579   8.8420  0.010        0.3\n",
       "5  635   9.6970  0.020        0.3\n",
       "6  702  10.7250  0.020        0.3"
      ]
     },
     "execution_count": 5,
     "metadata": {},
     "output_type": "execute_result"
    }
   ],
   "source": [
    "# create calibration dataframe\n",
    "df_calibration = pd.read_csv(\"./data/calibration_data.csv\",sep = \",\")\n",
    "df_calibration[\"ERROR\"] = 0.01 * df_calibration[\"ERROR\"]\n",
    "df_calibration[\"bin_error\"] = 0.3\n",
    "df_calibration_alt = df_calibration.loc[df_calibration.BIN != 111]\n",
    "df_calibration"
   ]
  },
  {
   "cell_type": "code",
   "execution_count": 6,
   "id": "0a1b16e7",
   "metadata": {},
   "outputs": [
    {
     "name": "stdout",
     "output_type": "stream",
     "text": [
      "p0 = 0.016 +- 0.0\n",
      "p1 = -0.387 +- 0.162\n",
      "Chi^2 = 2656.021\n",
      "red. Chi^2 = 531.204\n",
      "\n"
     ]
    }
   ],
   "source": [
    "# popt, perr, fitResult = odrFit(xData, xErr, yData, yErr, fitFunc, startParameters)\n",
    "startParametersexp = np.array([200., 2.0, 9.])\n",
    "startParameterslin = np.array([0.001, 0.05])\n",
    "\n",
    "xData = df_calibration[\"BIN\"].to_numpy()\n",
    "xErr = df_calibration[\"bin_error\"].to_numpy()\n",
    "yData = df_calibration[\"TIME\"].to_numpy()\n",
    "yErr = df_calibration[\"ERROR\"].to_numpy()\n",
    "#popt, perr, fitResult = odrFit(df_calibration[\"BIN\"].to_numpy(), df_calibration[\"bin_error\"].to_numpy(), df_calibration[\"TIME\"].to_numpy(),df_calibration[\"ERROR\"].to_numpy(), fitFunc, startParameters)\n",
    "popt, perr, fitResult = odrFit(xData, xErr, yData, yErr, fitFunclin, startParameterslin)"
   ]
  },
  {
   "cell_type": "code",
   "execution_count": 7,
   "id": "1a0e0655",
   "metadata": {},
   "outputs": [
    {
     "name": "stdout",
     "output_type": "stream",
     "text": [
      "Beta: [ 0.01610365 -0.38698405]\n",
      "Beta Std Error: [0.00046468 0.16169942]\n",
      "Beta Covariance: [[ 4.06481799e-10 -1.19312810e-07]\n",
      " [-1.19312810e-07  4.92215653e-05]]\n",
      "Residual Variance: 531.2042322041628\n",
      "Inverse Condition #: 0.07322453064392846\n",
      "Reason(s) for Halting:\n",
      "  Sum of squares convergence\n"
     ]
    }
   ],
   "source": [
    "fitResult.pprint()"
   ]
  },
  {
   "cell_type": "code",
   "execution_count": 8,
   "id": "e50b1dc0",
   "metadata": {
    "scrolled": false
   },
   "outputs": [
    {
     "name": "stdout",
     "output_type": "stream",
     "text": [
      "p0 = 0.015 +- 0.0\n",
      "p1 = 0.032 +- 0.005\n",
      "Chi^2 = 1.035\n",
      "red. Chi^2 = 0.259\n",
      "\n"
     ]
    }
   ],
   "source": [
    "startParameterslin = np.array([0.01, 0.01])\n",
    "xData = df_calibration_alt[\"BIN\"].to_numpy()\n",
    "xErr = df_calibration_alt[\"bin_error\"].to_numpy()\n",
    "yData = df_calibration_alt[\"TIME\"].to_numpy()\n",
    "yErr = df_calibration_alt[\"ERROR\"].to_numpy()\n",
    "#popt, perr, fitResult = odrFit(df_calibration[\"BIN\"].to_numpy(), df_calibration[\"bin_error\"].to_numpy(), df_calibration[\"TIME\"].to_numpy(),df_calibration[\"ERROR\"].to_numpy(), fitFunc, startParameters)\n",
    "popt, perr, fitResult = odrFit(xData, xErr, yData, yErr, fitFunclin, startParameterslin)"
   ]
  },
  {
   "cell_type": "code",
   "execution_count": 9,
   "id": "129a9b73",
   "metadata": {},
   "outputs": [
    {
     "name": "stdout",
     "output_type": "stream",
     "text": [
      "Beta: [0.01522464 0.03233151]\n",
      "Beta Std Error: [1.30906316e-05 5.29668666e-03]\n",
      "Beta Covariance: [[ 6.62326342e-10 -2.42748168e-07]\n",
      " [-2.42748168e-07  1.08432480e-04]]\n",
      "Residual Variance: 0.25873141978873576\n",
      "Inverse Condition #: 0.0010458418508355256\n",
      "Reason(s) for Halting:\n",
      "  Sum of squares convergence\n"
     ]
    }
   ],
   "source": [
    "fitResult.pprint()"
   ]
  },
  {
   "cell_type": "markdown",
   "id": "9c045fe3",
   "metadata": {},
   "source": [
    "model = lm.LinearRegression().fit(df_calibration.BIN,df_calibration.TIME)\n",
    "r_sq = model.score(df_calibration.BIN,df_calibration.TIME)\n",
    "print(f\"coefficent of determination: {r_sq}\")\n",
    "print(f\"intercet: {model.intercept_}\")\n",
    "print(f\"slope:{model.coef_}\")"
   ]
  },
  {
   "cell_type": "code",
   "execution_count": 10,
   "id": "9e66fa7e",
   "metadata": {},
   "outputs": [],
   "source": [
    "p, V = np.polyfit(df_calibration.BIN, df_calibration.TIME, 1, cov = True)\n",
    "#m = slope, b=intercept\n",
    "correlation = np.corrcoef(df_calibration.BIN, df_calibration.TIME)[0,1]\n",
    "r_squared = correlation ** 2\n",
    "\n",
    "p_alt, V_alt = np.polyfit(df_calibration_alt.BIN, df_calibration_alt.TIME, 1, cov = True)\n",
    "#m = slope, b=intercept\n",
    "correlation_alt = np.corrcoef(df_calibration_alt.BIN, df_calibration_alt.TIME)[0,1]\n",
    "r_squared_alt = correlation_alt ** 2"
   ]
  },
  {
   "cell_type": "code",
   "execution_count": 11,
   "id": "2b2213d9",
   "metadata": {},
   "outputs": [
    {
     "data": {
      "image/png": "[encoded data removed]",
      "text/plain": [
       "<Figure size 432x288 with 1 Axes>"
      ]
     },
     "metadata": {
      "needs_background": "light"
     },
     "output_type": "display_data"
    }
   ],
   "source": [
    "plt.scatter(df_calibration.BIN, df_calibration.TIME)\n",
    "plt.plot(df_calibration.BIN, p[0]*df_calibration.BIN + p[1], label = \"Least-Squares Linear Fit 1\",color = \"blue\")\n",
    "\n",
    "plt.plot([], [], ' ', label=f\"m_1 = {round(p[0],5)} +/- {round(np.sqrt(V[0][0]),5)}\")\n",
    "plt.plot([], [], ' ', label=f\"b_1 = {round(p[1],3)} +/- {round(np.sqrt(V[1][1]),3)}\")\n",
    "plt.plot([], [], ' ', label=f\"R^2_1 = {round(r_squared,3)}\")\n",
    "\n",
    "plt.scatter(df_calibration_alt.BIN, df_calibration_alt.TIME)\n",
    "plt.plot(df_calibration_alt.BIN, p_alt[0]*df_calibration_alt.BIN + p_alt[1], label = \"Least-Squares Linear Fit 2\",color = \"r\")\n",
    "\n",
    "plt.plot([], [], ' ', label=f\"m_2 = {round(p_alt[0],5)} +/- {round(np.sqrt(V_alt[0][0]),5)}\")\n",
    "plt.plot([], [], ' ', label=f\"b_2 = {round(p_alt[1],3)} +/- {round(np.sqrt(V_alt[1][1]),3)}\")\n",
    "plt.plot([], [], ' ', label=f\"R^2_2 = {round(r_squared_alt,3)}\")\n",
    "\n",
    "\n",
    "plt.xlabel(\"bin\")\n",
    "plt.ylabel(\"t (\\u03BC s)\")\n",
    "plt.legend(bbox_to_anchor=(1.05, 1), loc=2, borderaxespad=0.)\n",
    "plt.savefig(\"./plots/calibration_figure.png\", bbox_inches='tight')"
   ]
  },
  {
   "cell_type": "markdown",
   "id": "410bba23",
   "metadata": {},
   "source": [
    "## Bestimmung der Lebensdauer"
   ]
  },
  {
   "cell_type": "code",
   "execution_count": 12,
   "id": "ab4d2f5c",
   "metadata": {},
   "outputs": [
    {
     "data": {
      "text/html": [
       "<div>\n",
       "<style scoped>\n",
       "    .dataframe tbody tr th:only-of-type {\n",
       "        vertical-align: middle;\n",
       "    }\n",
       "\n",
       "    .dataframe tbody tr th {\n",
       "        vertical-align: top;\n",
       "    }\n",
       "\n",
       "    .dataframe thead th {\n",
       "        text-align: right;\n",
       "    }\n",
       "</style>\n",
       "<table border=\"1\" class=\"dataframe\">\n",
       "  <thead>\n",
       "    <tr style=\"text-align: right;\">\n",
       "      <th></th>\n",
       "      <th>bin</th>\n",
       "      <th>count</th>\n",
       "    </tr>\n",
       "  </thead>\n",
       "  <tbody>\n",
       "    <tr>\n",
       "      <th>0</th>\n",
       "      <td>1</td>\n",
       "      <td>8840</td>\n",
       "    </tr>\n",
       "    <tr>\n",
       "      <th>1</th>\n",
       "      <td>2</td>\n",
       "      <td>6529</td>\n",
       "    </tr>\n",
       "    <tr>\n",
       "      <th>2</th>\n",
       "      <td>3</td>\n",
       "      <td>4243</td>\n",
       "    </tr>\n",
       "    <tr>\n",
       "      <th>3</th>\n",
       "      <td>4</td>\n",
       "      <td>2798</td>\n",
       "    </tr>\n",
       "    <tr>\n",
       "      <th>4</th>\n",
       "      <td>5</td>\n",
       "      <td>1810</td>\n",
       "    </tr>\n",
       "    <tr>\n",
       "      <th>5</th>\n",
       "      <td>6</td>\n",
       "      <td>1223</td>\n",
       "    </tr>\n",
       "    <tr>\n",
       "      <th>6</th>\n",
       "      <td>7</td>\n",
       "      <td>811</td>\n",
       "    </tr>\n",
       "    <tr>\n",
       "      <th>7</th>\n",
       "      <td>8</td>\n",
       "      <td>636</td>\n",
       "    </tr>\n",
       "    <tr>\n",
       "      <th>8</th>\n",
       "      <td>9</td>\n",
       "      <td>428</td>\n",
       "    </tr>\n",
       "    <tr>\n",
       "      <th>9</th>\n",
       "      <td>10</td>\n",
       "      <td>327</td>\n",
       "    </tr>\n",
       "    <tr>\n",
       "      <th>10</th>\n",
       "      <td>11</td>\n",
       "      <td>268</td>\n",
       "    </tr>\n",
       "    <tr>\n",
       "      <th>11</th>\n",
       "      <td>12</td>\n",
       "      <td>237</td>\n",
       "    </tr>\n",
       "    <tr>\n",
       "      <th>12</th>\n",
       "      <td>13</td>\n",
       "      <td>230</td>\n",
       "    </tr>\n",
       "    <tr>\n",
       "      <th>13</th>\n",
       "      <td>14</td>\n",
       "      <td>201</td>\n",
       "    </tr>\n",
       "    <tr>\n",
       "      <th>14</th>\n",
       "      <td>15</td>\n",
       "      <td>177</td>\n",
       "    </tr>\n",
       "    <tr>\n",
       "      <th>15</th>\n",
       "      <td>16</td>\n",
       "      <td>173</td>\n",
       "    </tr>\n",
       "  </tbody>\n",
       "</table>\n",
       "</div>"
      ],
      "text/plain": [
       "    bin  count\n",
       "0     1   8840\n",
       "1     2   6529\n",
       "2     3   4243\n",
       "3     4   2798\n",
       "4     5   1810\n",
       "5     6   1223\n",
       "6     7    811\n",
       "7     8    636\n",
       "8     9    428\n",
       "9    10    327\n",
       "10   11    268\n",
       "11   12    237\n",
       "12   13    230\n",
       "13   14    201\n",
       "14   15    177\n",
       "15   16    173"
      ]
     },
     "execution_count": 12,
     "metadata": {},
     "output_type": "execute_result"
    }
   ],
   "source": [
    "df_CD = pd.read_csv(\"./data/count_data.csv\",sep = \",\")\n",
    "df_CD"
   ]
  },
  {
   "cell_type": "code",
   "execution_count": 13,
   "id": "94416179",
   "metadata": {},
   "outputs": [
    {
     "data": {
      "text/html": [
       "<div>\n",
       "<style scoped>\n",
       "    .dataframe tbody tr th:only-of-type {\n",
       "        vertical-align: middle;\n",
       "    }\n",
       "\n",
       "    .dataframe tbody tr th {\n",
       "        vertical-align: top;\n",
       "    }\n",
       "\n",
       "    .dataframe thead th {\n",
       "        text-align: right;\n",
       "    }\n",
       "</style>\n",
       "<table border=\"1\" class=\"dataframe\">\n",
       "  <thead>\n",
       "    <tr style=\"text-align: right;\">\n",
       "      <th></th>\n",
       "      <th>bin</th>\n",
       "      <th>count</th>\n",
       "      <th>TIME</th>\n",
       "      <th>TIME_ERROR</th>\n",
       "      <th>COUNTS_ERROR</th>\n",
       "    </tr>\n",
       "  </thead>\n",
       "  <tbody>\n",
       "    <tr>\n",
       "      <th>0</th>\n",
       "      <td>1</td>\n",
       "      <td>8840</td>\n",
       "      <td>0.992</td>\n",
       "      <td>0.008124</td>\n",
       "      <td>94.021274</td>\n",
       "    </tr>\n",
       "    <tr>\n",
       "      <th>1</th>\n",
       "      <td>2</td>\n",
       "      <td>6529</td>\n",
       "      <td>1.952</td>\n",
       "      <td>0.011402</td>\n",
       "      <td>80.802228</td>\n",
       "    </tr>\n",
       "    <tr>\n",
       "      <th>2</th>\n",
       "      <td>3</td>\n",
       "      <td>4243</td>\n",
       "      <td>2.912</td>\n",
       "      <td>0.013928</td>\n",
       "      <td>65.138314</td>\n",
       "    </tr>\n",
       "    <tr>\n",
       "      <th>3</th>\n",
       "      <td>4</td>\n",
       "      <td>2798</td>\n",
       "      <td>3.872</td>\n",
       "      <td>0.016062</td>\n",
       "      <td>52.896125</td>\n",
       "    </tr>\n",
       "    <tr>\n",
       "      <th>4</th>\n",
       "      <td>5</td>\n",
       "      <td>1810</td>\n",
       "      <td>4.832</td>\n",
       "      <td>0.017944</td>\n",
       "      <td>42.544095</td>\n",
       "    </tr>\n",
       "    <tr>\n",
       "      <th>5</th>\n",
       "      <td>6</td>\n",
       "      <td>1223</td>\n",
       "      <td>5.792</td>\n",
       "      <td>0.019647</td>\n",
       "      <td>34.971417</td>\n",
       "    </tr>\n",
       "    <tr>\n",
       "      <th>6</th>\n",
       "      <td>7</td>\n",
       "      <td>811</td>\n",
       "      <td>6.752</td>\n",
       "      <td>0.021213</td>\n",
       "      <td>28.478062</td>\n",
       "    </tr>\n",
       "    <tr>\n",
       "      <th>7</th>\n",
       "      <td>8</td>\n",
       "      <td>636</td>\n",
       "      <td>7.712</td>\n",
       "      <td>0.022672</td>\n",
       "      <td>25.219040</td>\n",
       "    </tr>\n",
       "    <tr>\n",
       "      <th>8</th>\n",
       "      <td>9</td>\n",
       "      <td>428</td>\n",
       "      <td>8.672</td>\n",
       "      <td>0.024042</td>\n",
       "      <td>20.688161</td>\n",
       "    </tr>\n",
       "    <tr>\n",
       "      <th>9</th>\n",
       "      <td>10</td>\n",
       "      <td>327</td>\n",
       "      <td>9.632</td>\n",
       "      <td>0.025338</td>\n",
       "      <td>18.083141</td>\n",
       "    </tr>\n",
       "    <tr>\n",
       "      <th>10</th>\n",
       "      <td>11</td>\n",
       "      <td>268</td>\n",
       "      <td>10.592</td>\n",
       "      <td>0.026571</td>\n",
       "      <td>16.370706</td>\n",
       "    </tr>\n",
       "    <tr>\n",
       "      <th>11</th>\n",
       "      <td>12</td>\n",
       "      <td>237</td>\n",
       "      <td>11.552</td>\n",
       "      <td>0.027749</td>\n",
       "      <td>15.394804</td>\n",
       "    </tr>\n",
       "    <tr>\n",
       "      <th>12</th>\n",
       "      <td>13</td>\n",
       "      <td>230</td>\n",
       "      <td>12.512</td>\n",
       "      <td>0.028879</td>\n",
       "      <td>15.165751</td>\n",
       "    </tr>\n",
       "    <tr>\n",
       "      <th>13</th>\n",
       "      <td>14</td>\n",
       "      <td>201</td>\n",
       "      <td>13.472</td>\n",
       "      <td>0.029967</td>\n",
       "      <td>14.177447</td>\n",
       "    </tr>\n",
       "    <tr>\n",
       "      <th>14</th>\n",
       "      <td>15</td>\n",
       "      <td>177</td>\n",
       "      <td>14.432</td>\n",
       "      <td>0.031016</td>\n",
       "      <td>13.304135</td>\n",
       "    </tr>\n",
       "    <tr>\n",
       "      <th>15</th>\n",
       "      <td>16</td>\n",
       "      <td>173</td>\n",
       "      <td>15.392</td>\n",
       "      <td>0.032031</td>\n",
       "      <td>13.152946</td>\n",
       "    </tr>\n",
       "  </tbody>\n",
       "</table>\n",
       "</div>"
      ],
      "text/plain": [
       "    bin  count    TIME  TIME_ERROR  COUNTS_ERROR\n",
       "0     1   8840   0.992    0.008124     94.021274\n",
       "1     2   6529   1.952    0.011402     80.802228\n",
       "2     3   4243   2.912    0.013928     65.138314\n",
       "3     4   2798   3.872    0.016062     52.896125\n",
       "4     5   1810   4.832    0.017944     42.544095\n",
       "5     6   1223   5.792    0.019647     34.971417\n",
       "6     7    811   6.752    0.021213     28.478062\n",
       "7     8    636   7.712    0.022672     25.219040\n",
       "8     9    428   8.672    0.024042     20.688161\n",
       "9    10    327   9.632    0.025338     18.083141\n",
       "10   11    268  10.592    0.026571     16.370706\n",
       "11   12    237  11.552    0.027749     15.394804\n",
       "12   13    230  12.512    0.028879     15.165751\n",
       "13   14    201  13.472    0.029967     14.177447\n",
       "14   15    177  14.432    0.031016     13.304135\n",
       "15   16    173  15.392    0.032031     13.152946"
      ]
     },
     "execution_count": 13,
     "metadata": {},
     "output_type": "execute_result"
    }
   ],
   "source": [
    "#add time values from bins\n",
    "df_CD[\"TIME\"] = 0.015 * 64 * df_CD[\"bin\"] + 0.032\n",
    "df_CD[\"TIME_ERROR\"] = 0.001 * np.sqrt(((0.000013)*64*df_CD[\"bin\"])^2)\n",
    "df_CD[\"COUNTS_ERROR\"] = np.sqrt(df_CD[\"count\"])\n",
    "df_CD\n"
   ]
  },
  {
   "cell_type": "code",
   "execution_count": 14,
   "id": "50085ce6",
   "metadata": {},
   "outputs": [
    {
     "name": "stdout",
     "output_type": "stream",
     "text": [
      "\\begin{tabular}{rrrrr}\n",
      "\\toprule\n",
      " bin &  count &   TIME &  TIME\\_ERROR &  COUNTS\\_ERROR \\\\\n",
      "\\midrule\n",
      "   1 &   8840 &  0.992 &    0.008124 &     94.021274 \\\\\n",
      "   2 &   6529 &  1.952 &    0.011402 &     80.802228 \\\\\n",
      "   3 &   4243 &  2.912 &    0.013928 &     65.138314 \\\\\n",
      "   4 &   2798 &  3.872 &    0.016062 &     52.896125 \\\\\n",
      "   5 &   1810 &  4.832 &    0.017944 &     42.544095 \\\\\n",
      "   6 &   1223 &  5.792 &    0.019647 &     34.971417 \\\\\n",
      "   7 &    811 &  6.752 &    0.021213 &     28.478062 \\\\\n",
      "   8 &    636 &  7.712 &    0.022672 &     25.219040 \\\\\n",
      "   9 &    428 &  8.672 &    0.024042 &     20.688161 \\\\\n",
      "  10 &    327 &  9.632 &    0.025338 &     18.083141 \\\\\n",
      "  11 &    268 & 10.592 &    0.026571 &     16.370706 \\\\\n",
      "  12 &    237 & 11.552 &    0.027749 &     15.394804 \\\\\n",
      "  13 &    230 & 12.512 &    0.028879 &     15.165751 \\\\\n",
      "  14 &    201 & 13.472 &    0.029967 &     14.177447 \\\\\n",
      "  15 &    177 & 14.432 &    0.031016 &     13.304135 \\\\\n",
      "  16 &    173 & 15.392 &    0.032031 &     13.152946 \\\\\n",
      "\\bottomrule\n",
      "\\end{tabular}\n",
      "\n"
     ]
    }
   ],
   "source": [
    "print(df_CD.to_latex(index = False))"
   ]
  },
  {
   "cell_type": "code",
   "execution_count": 28,
   "id": "a4cbdc09",
   "metadata": {},
   "outputs": [
    {
     "name": "stdout",
     "output_type": "stream",
     "text": [
      "p0 = 14102.833 +- 369.877\n",
      "p1 = 2.276 +- 0.049\n",
      "p2 = 148.859 +- 15.086\n",
      "Chi^2 = 63.265\n",
      "red. Chi^2 = 4.867\n",
      "\n"
     ]
    }
   ],
   "source": [
    "# popt, perr, fitResult = odrFit(xData, xErr, yData, yErr, fitFunc, startParameters)\n",
    "startParametersexp = np.array([9000., 2, 200])\n",
    "startParameterslin = np.array([0.001, 0.05])\n",
    "\n",
    "yData = df_CD[\"count\"].to_numpy()\n",
    "yErr = df_CD[\"COUNTS_ERROR\"].to_numpy()\n",
    "xData = df_CD[\"TIME\"].to_numpy()\n",
    "xErr = df_CD[\"TIME_ERROR\"].to_numpy()\n",
    "#popt, perr, fitResult = odrFit(df_calibration[\"BIN\"].to_numpy(), df_calibration[\"bin_error\"].to_numpy(), df_calibration[\"TIME\"].to_numpy(),df_calibration[\"ERROR\"].to_numpy(), fitFunc, startParameters)\n",
    "popt, perr, fitResult = odrFit(xData, xErr, yData, yErr, fitFuncexp, startParametersexp)"
   ]
  },
  {
   "cell_type": "code",
   "execution_count": 29,
   "id": "a6735004",
   "metadata": {},
   "outputs": [
    {
     "name": "stdout",
     "output_type": "stream",
     "text": [
      "Beta: [1.41028331e+04 2.27579440e+00 1.48859297e+02]\n",
      "Beta Std Error: [3.69877303e+02 4.91342346e-02 1.50856522e+01]\n",
      "Beta Covariance: [[ 2.81121940e+04 -3.00278394e+00  3.96722734e+02]\n",
      " [-3.00278394e+00  4.96075486e-04 -9.41332116e-02]\n",
      " [ 3.96722734e+02 -9.41332116e-02  4.67635591e+01]]\n",
      "Residual Variance: 4.86654366182597\n",
      "Inverse Condition #: 0.14057879849067847\n",
      "Reason(s) for Halting:\n",
      "  Sum of squares convergence\n"
     ]
    }
   ],
   "source": [
    "fitResult.pprint()\n"
   ]
  },
  {
   "cell_type": "code",
   "execution_count": 30,
   "id": "3ceb3f34",
   "metadata": {},
   "outputs": [
    {
     "data": {
      "image/png": "[encoded data removed]",
      "text/plain": [
       "<Figure size 864x576 with 1 Axes>"
      ]
     },
     "metadata": {
      "needs_background": "light"
     },
     "output_type": "display_data"
    }
   ],
   "source": [
    "# Let's make a plot of the result:\n",
    "\n",
    "x_fit = np.linspace(0.95*min(xData), 1.05*max(xData), 200)\n",
    "fit = fitFuncexp(popt, x_fit)\n",
    "\n",
    "# calculate the residuals in y direction\n",
    "residuals = fitResult.eps / yErr\n",
    "\n",
    "error_fmt = \" +- {:.1e}\"\n",
    "\n",
    "fig1 = plt.figure(figsize=(12,8))\n",
    "plt.errorbar(xData, yData, xerr = xErr, yerr = yErr, fmt = '.')\n",
    "plt.plot(x_fit, fit, lw=2, label=\n",
    "         'Fit: N0*exp(-t/\\u03C4) + K, \\u03C4 = ' + str(round(popt[1], 3)) + error_fmt.format(perr[1]) \n",
    "         + ', N0 = ' + str(round(popt[0], 3)) + error_fmt.format(perr[0]) \n",
    "         + ', K = ' + str(round(popt[2], 3)) + error_fmt.format(perr[2]) \n",
    "         + ', $\\chi^2$ = ' + str(round(fitResult.sum_square, 3)))\n",
    "plt.xlabel('t ($\\mu$s)')\n",
    "plt.ylabel('counts')\n",
    "plt.legend()\n",
    "plt.title('Lebensdauer von Myonen')\n",
    "\n",
    "# fig2 = plt.figure(figsize=(12,2.5))\n",
    "# plot(xData, residuals,'or')\n",
    "# plt.xlabel('t / $\\mu$s')\n",
    "# plt.ylabel('Residuals')\n",
    "# plt.grid()\n",
    "plt.savefig(\"./plots/counts_with_figure.png\")\n",
    "plt.show()\n"
   ]
  },
  {
   "cell_type": "code",
   "execution_count": 31,
   "id": "b7be4809",
   "metadata": {},
   "outputs": [],
   "source": [
    "df_CD_alt = df_CD.loc[df_CD[\"bin\"]!= 1].copy()"
   ]
  },
  {
   "cell_type": "code",
   "execution_count": 38,
   "id": "873a481d",
   "metadata": {},
   "outputs": [
    {
     "name": "stdout",
     "output_type": "stream",
     "text": [
      "p0 = 15935.788 +- 254.164\n",
      "p1 = 2.134 +- 0.021\n",
      "p2 = 165.207 +- 5.367\n",
      "Chi^2 = 7.315\n",
      "red. Chi^2 = 0.61\n",
      "\n"
     ]
    }
   ],
   "source": [
    "startParametersexp = np.array([9000., 2, 200])\n",
    "startParameterslin = np.array([0.001, 0.05])\n",
    "\n",
    "yData_alt = df_CD_alt[\"count\"].to_numpy()\n",
    "yErr_alt = df_CD_alt[\"COUNTS_ERROR\"].to_numpy()\n",
    "xData_alt = df_CD_alt[\"TIME\"].to_numpy()\n",
    "xErr_alt = df_CD_alt[\"TIME_ERROR\"].to_numpy()\n",
    "#popt, perr, fitResult = odrFit(df_calibration[\"BIN\"].to_numpy(), df_calibration[\"bin_error\"].to_numpy(), df_calibration[\"TIME\"].to_numpy(),df_calibration[\"ERROR\"].to_numpy(), fitFunc, startParameters)\n",
    "popt_alt, perr_alt, fitResult_alt = odrFit(xData_alt, xErr_alt, yData_alt, yErr_alt, fitFuncexp, startParametersexp)"
   ]
  },
  {
   "cell_type": "code",
   "execution_count": 39,
   "id": "aa50b761",
   "metadata": {},
   "outputs": [
    {
     "data": {
      "image/png": "[encoded data removed]",
      "text/plain": [
       "<Figure size 864x576 with 1 Axes>"
      ]
     },
     "metadata": {
      "needs_background": "light"
     },
     "output_type": "display_data"
    }
   ],
   "source": [
    "\n",
    "x_fit_alt = np.linspace(0.95*min(xData_alt), 1.05*max(xData_alt), 200)\n",
    "fit_alt = fitFuncexp(popt_alt, x_fit_alt)\n",
    "\n",
    "# calculate the residuals in y direction\n",
    "#residuals = fitResult_alt.eps / yErr_alt\n",
    "\n",
    "error_fmt_alt = \" +- {:.1e}\"\n",
    "\n",
    "fig1 = plt.figure(figsize=(12,8))\n",
    "plt.errorbar(xData, yData, xerr = xErr, yerr = yErr, fmt = '.')\n",
    "plt.plot(x_fit_alt, fit_alt, lw=2, label=\n",
    "         'Fit 1: N0*exp(-t/\\u03C4) + K, \\u03C4 = ' + str(round(popt_alt[1], 3)) + error_fmt_alt.format(perr_alt[1]) \n",
    "         + ', N0 = ' + str(round(popt_alt[0], 3)) + error_fmt_alt.format(perr_alt[0]) \n",
    "         + ', K = ' + str(round(popt_alt[2], 3)) + error_fmt_alt.format(perr_alt[2]) \n",
    "         + ', $\\chi^2$ = ' + str(round(fitResult_alt.sum_square, 3)))\n",
    "plt.xlabel('t ($\\mu$s)')\n",
    "plt.ylabel('Counts')\n",
    "plt.legend(loc = \"upper right\")\n",
    "plt.title('Lebensdauer von Myonen')\n",
    "\n",
    "# fig2 = plt.figure(figsize=(12,2.5))\n",
    "# plot(xData, residuals,'or')\n",
    "# plt.xlabel('t / $\\mu$s')\n",
    "# plt.ylabel('Residuals')\n",
    "# plt.grid()\n",
    "plt.savefig(\"./plots/counts_without_figure.png\")\n",
    "plt.show()\n"
   ]
  },
  {
   "cell_type": "code",
   "execution_count": 41,
   "id": "ffbbf459",
   "metadata": {},
   "outputs": [
    {
     "data": {
      "image/png": "[encoded data removed]",
      "text/plain": [
       "<Figure size 864x576 with 1 Axes>"
      ]
     },
     "metadata": {
      "needs_background": "light"
     },
     "output_type": "display_data"
    }
   ],
   "source": [
    "#Plot Both Fits with data\n",
    "error_fmt = \" +- {:.1e}\"\n",
    "fig1 = plt.figure(figsize=(12,8))\n",
    "plt.errorbar(xData, yData, xerr = xErr, yerr = yErr, fmt = '.')\n",
    "plt.plot(x_fit, fit, lw=2, label=\n",
    "         'Fit 1: N0*exp(-t/\\u03C4) + K, \\u03C4 = ' + str(round(popt[1], 3)) + error_fmt.format(perr[1]) \n",
    "         + ', N0 = ' + str(round(popt[0], 3)) + error_fmt.format(perr[0]) \n",
    "         + ', K = ' + str(round(popt[2], 3)) + error_fmt.format(perr[2]) \n",
    "         + ', $\\chi^2$ = ' + str(round(fitResult.sum_square, 3)))\n",
    "plt.plot(x_fit_alt, fit_alt, lw=2, label=\n",
    "         'Fit 2: N0*exp(-t/\\u03C4) + K, \\u03C4 = ' + str(round(popt_alt[1], 3)) + error_fmt_alt.format(perr_alt[1]) \n",
    "         + ', N0 = ' + str(round(popt_alt[0], 3)) + error_fmt_alt.format(perr_alt[0]) \n",
    "         + ', K = ' + str(round(popt_alt[2], 3)) + error_fmt_alt.format(perr_alt[2]) \n",
    "         + ', $\\chi^2$ = ' + str(round(fitResult_alt.sum_square, 3)))\n",
    "plt.xlabel('t ($\\mu$s)')\n",
    "plt.ylabel('counts')\n",
    "plt.legend()\n",
    "plt.title('Lebensdauer von Myonen')\n",
    "\n",
    "\n",
    "plt.savefig(\"./plots/counts_both_figure.png\")\n",
    "plt.show()"
   ]
  },
  {
   "cell_type": "code",
   "execution_count": null,
   "id": "d76d7b88",
   "metadata": {},
   "outputs": [],
   "source": []
  }
 ],
 "metadata": {
  "kernelspec": {
   "display_name": "Python 3 (ipykernel)",
   "language": "python",
   "name": "python3"
  },
  "language_info": {
   "codemirror_mode": {
    "name": "ipython",
    "version": 3
   },
   "file_extension": ".py",
   "mimetype": "text/x-python",
   "name": "python",
   "nbconvert_exporter": "python",
   "pygments_lexer": "ipython3",
   "version": "3.7.13"
  }
 },
 "nbformat": 4,
 "nbformat_minor": 5
}
